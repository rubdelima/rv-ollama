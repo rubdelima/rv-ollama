{
 "cells": [
  {
   "cell_type": "code",
   "execution_count": 1,
   "metadata": {},
   "outputs": [],
   "source": [
    "from src.utils.ai.tools_model.model import ToolsModel"
   ]
  },
  {
   "cell_type": "code",
   "execution_count": 2,
   "metadata": {},
   "outputs": [],
   "source": [
    "# ollama_model = ToolsModel(\"llama3.1:8b-instruct-q8_0\", \"ollama\")\n",
    "phi4_mini = ToolsModel(\"phi4-mini\", \"ollama\")"
   ]
  },
  {
   "cell_type": "code",
   "execution_count": 3,
   "metadata": {},
   "outputs": [
    {
     "ename": "",
     "evalue": "",
     "output_type": "error",
     "traceback": [
      "\u001b[1;31mNão é possível executar o código, a sessão foi descartada. Tente reiniciar o Kernel."
     ]
    },
    {
     "ename": "",
     "evalue": "",
     "output_type": "error",
     "traceback": [
      "\u001b[1;31mNão é possível executar o código, a sessão foi descartada. Tente reiniciar o Kernel. \n",
      "\u001b[1;31mConsulte o <a href='command:jupyter.viewOutput'>log</a> do Jupyter para obter mais detalhes."
     ]
    }
   ],
   "source": [
    "result_phi = phi4_mini.find_recieves([\"Ovos\", \"Farinha\", \"Leite\"])"
   ]
  },
  {
   "cell_type": "code",
   "execution_count": null,
   "metadata": {},
   "outputs": [],
   "source": [
    "result_phi"
   ]
  },
  {
   "cell_type": "code",
   "execution_count": 2,
   "metadata": {},
   "outputs": [],
   "source": [
    "gemini_model = ToolsModel(\"gemini-2.0-flash\", \"gemini\")"
   ]
  },
  {
   "cell_type": "code",
   "execution_count": 4,
   "metadata": {},
   "outputs": [],
   "source": [
    "openai = ToolsModel(\"gpt-3.5-turbo\", \"openai\")"
   ]
  },
  {
   "cell_type": "code",
   "execution_count": 5,
   "metadata": {},
   "outputs": [],
   "source": [
    "ingredients = [\"salmão\", \"banana\", \"ovo\"]"
   ]
  },
  {
   "cell_type": "code",
   "execution_count": 3,
   "metadata": {},
   "outputs": [
    {
     "ename": "NameError",
     "evalue": "name 'ollama_model' is not defined",
     "output_type": "error",
     "traceback": [
      "\u001b[31m---------------------------------------------------------------------------\u001b[39m",
      "\u001b[31mNameError\u001b[39m                                 Traceback (most recent call last)",
      "\u001b[36mCell\u001b[39m\u001b[36m \u001b[39m\u001b[32mIn[3]\u001b[39m\u001b[32m, line 1\u001b[39m\n\u001b[32m----> \u001b[39m\u001b[32m1\u001b[39m ollama_result = \u001b[43mollama_model\u001b[49m.find_recieves(ingredients)\n",
      "\u001b[31mNameError\u001b[39m: name 'ollama_model' is not defined"
     ]
    }
   ],
   "source": [
    "ollama_result = ollama_model.find_recieves(ingredients)"
   ]
  },
  {
   "cell_type": "code",
   "execution_count": 6,
   "metadata": {},
   "outputs": [
    {
     "name": "stderr",
     "output_type": "stream",
     "text": [
      "Unexpected renderer encountered.\n",
      "Renderer name: dict_keys(['reelShelfRenderer'])\n",
      "Search term: salmão\n",
      "Please open an issue at https://github.com/pytube/pytube/issues and provide this log output.\n",
      "Unexpected renderer encountered.\n",
      "Renderer name: dict_keys(['reelShelfRenderer'])\n",
      "Search term: salmão\n",
      "Please open an issue at https://github.com/pytube/pytube/issues and provide this log output.\n",
      "Unexpected renderer encountered.\n",
      "Renderer name: dict_keys(['reelShelfRenderer'])\n",
      "Search term: banana\n",
      "Please open an issue at https://github.com/pytube/pytube/issues and provide this log output.\n",
      "Unexpected renderer encountered.\n",
      "Renderer name: dict_keys(['reelShelfRenderer'])\n",
      "Search term: banana\n",
      "Please open an issue at https://github.com/pytube/pytube/issues and provide this log output.\n",
      "Unexpected renderer encountered.\n",
      "Renderer name: dict_keys(['lockupViewModel'])\n",
      "Search term: banana\n",
      "Please open an issue at https://github.com/pytube/pytube/issues and provide this log output.\n",
      "Retrying langchain_google_genai.chat_models._chat_with_retry.<locals>._chat_with_retry in 2.0 seconds as it raised ResourceExhausted: 429 You exceeded your current quota, please check your plan and billing details. For more information on this error, head to: https://ai.google.dev/gemini-api/docs/rate-limits. [violations {\n",
      "}\n",
      ", links {\n",
      "  description: \"Learn more about Gemini API quotas\"\n",
      "  url: \"https://ai.google.dev/gemini-api/docs/rate-limits\"\n",
      "}\n",
      ", retry_delay {\n",
      "  seconds: 53\n",
      "}\n",
      "].\n",
      "Retrying langchain_google_genai.chat_models._chat_with_retry.<locals>._chat_with_retry in 2.0 seconds as it raised ResourceExhausted: 429 You exceeded your current quota, please check your plan and billing details. For more information on this error, head to: https://ai.google.dev/gemini-api/docs/rate-limits. [violations {\n",
      "}\n",
      ", links {\n",
      "  description: \"Learn more about Gemini API quotas\"\n",
      "  url: \"https://ai.google.dev/gemini-api/docs/rate-limits\"\n",
      "}\n",
      ", retry_delay {\n",
      "  seconds: 48\n",
      "}\n",
      "].\n",
      "Retrying langchain_google_genai.chat_models._chat_with_retry.<locals>._chat_with_retry in 2.0 seconds as it raised ResourceExhausted: 429 You exceeded your current quota, please check your plan and billing details. For more information on this error, head to: https://ai.google.dev/gemini-api/docs/rate-limits. [violations {\n",
      "}\n",
      ", links {\n",
      "  description: \"Learn more about Gemini API quotas\"\n",
      "  url: \"https://ai.google.dev/gemini-api/docs/rate-limits\"\n",
      "}\n",
      ", retry_delay {\n",
      "  seconds: 43\n",
      "}\n",
      "].\n"
     ]
    }
   ],
   "source": [
    "gemini_result = gemini_model.find_recieves(ingredients)"
   ]
  },
  {
   "cell_type": "code",
   "execution_count": 8,
   "metadata": {},
   "outputs": [
    {
     "name": "stderr",
     "output_type": "stream",
     "text": [
      "c:\\Users\\rubenslima\\Desktop\\Faculdade\\RV2\\.rv\\Lib\\site-packages\\langchain_openai\\chat_models\\base.py:1582: UserWarning: Cannot use method='json_schema' with model gpt-3.5-turbo since it doesn't support OpenAI's Structured Output API. You can see supported models here: https://platform.openai.com/docs/guides/structured-outputs#supported-models. To fix this warning, set `method='function_calling'. Overriding to method='function_calling'.\n",
      "  warnings.warn(\n",
      "c:\\Users\\rubenslima\\Desktop\\Faculdade\\RV2\\.rv\\Lib\\site-packages\\langchain_openai\\chat_models\\base.py:1582: UserWarning: Cannot use method='json_schema' with model gpt-3.5-turbo since it doesn't support OpenAI's Structured Output API. You can see supported models here: https://platform.openai.com/docs/guides/structured-outputs#supported-models. To fix this warning, set `method='function_calling'. Overriding to method='function_calling'.\n",
      "  warnings.warn(\n",
      "c:\\Users\\rubenslima\\Desktop\\Faculdade\\RV2\\.rv\\Lib\\site-packages\\langchain_openai\\chat_models\\base.py:1582: UserWarning: Cannot use method='json_schema' with model gpt-3.5-turbo since it doesn't support OpenAI's Structured Output API. You can see supported models here: https://platform.openai.com/docs/guides/structured-outputs#supported-models. To fix this warning, set `method='function_calling'. Overriding to method='function_calling'.\n",
      "  warnings.warn(\n",
      "c:\\Users\\rubenslima\\Desktop\\Faculdade\\RV2\\.rv\\Lib\\site-packages\\langchain_openai\\chat_models\\base.py:1582: UserWarning: Cannot use method='json_schema' with model gpt-3.5-turbo since it doesn't support OpenAI's Structured Output API. You can see supported models here: https://platform.openai.com/docs/guides/structured-outputs#supported-models. To fix this warning, set `method='function_calling'. Overriding to method='function_calling'.\n",
      "  warnings.warn(\n",
      "c:\\Users\\rubenslima\\Desktop\\Faculdade\\RV2\\.rv\\Lib\\site-packages\\langchain_openai\\chat_models\\base.py:1582: UserWarning: Cannot use method='json_schema' with model gpt-3.5-turbo since it doesn't support OpenAI's Structured Output API. You can see supported models here: https://platform.openai.com/docs/guides/structured-outputs#supported-models. To fix this warning, set `method='function_calling'. Overriding to method='function_calling'.\n",
      "  warnings.warn(\n",
      "c:\\Users\\rubenslima\\Desktop\\Faculdade\\RV2\\.rv\\Lib\\site-packages\\langchain_openai\\chat_models\\base.py:1582: UserWarning: Cannot use method='json_schema' with model gpt-3.5-turbo since it doesn't support OpenAI's Structured Output API. You can see supported models here: https://platform.openai.com/docs/guides/structured-outputs#supported-models. To fix this warning, set `method='function_calling'. Overriding to method='function_calling'.\n",
      "  warnings.warn(\n",
      "c:\\Users\\rubenslima\\Desktop\\Faculdade\\RV2\\.rv\\Lib\\site-packages\\langchain_openai\\chat_models\\base.py:1582: UserWarning: Cannot use method='json_schema' with model gpt-3.5-turbo since it doesn't support OpenAI's Structured Output API. You can see supported models here: https://platform.openai.com/docs/guides/structured-outputs#supported-models. To fix this warning, set `method='function_calling'. Overriding to method='function_calling'.\n",
      "  warnings.warn(\n",
      "c:\\Users\\rubenslima\\Desktop\\Faculdade\\RV2\\.rv\\Lib\\site-packages\\langchain_openai\\chat_models\\base.py:1582: UserWarning: Cannot use method='json_schema' with model gpt-3.5-turbo since it doesn't support OpenAI's Structured Output API. You can see supported models here: https://platform.openai.com/docs/guides/structured-outputs#supported-models. To fix this warning, set `method='function_calling'. Overriding to method='function_calling'.\n",
      "  warnings.warn(\n",
      "c:\\Users\\rubenslima\\Desktop\\Faculdade\\RV2\\.rv\\Lib\\site-packages\\langchain_openai\\chat_models\\base.py:1582: UserWarning: Cannot use method='json_schema' with model gpt-3.5-turbo since it doesn't support OpenAI's Structured Output API. You can see supported models here: https://platform.openai.com/docs/guides/structured-outputs#supported-models. To fix this warning, set `method='function_calling'. Overriding to method='function_calling'.\n",
      "  warnings.warn(\n",
      "Unexpected renderer encountered.\n",
      "Renderer name: dict_keys(['reelShelfRenderer'])\n",
      "Search term: banana\n",
      "Please open an issue at https://github.com/pytube/pytube/issues and provide this log output.\n",
      "Unexpected renderer encountered.\n",
      "Renderer name: dict_keys(['lockupViewModel'])\n",
      "Search term: banana\n",
      "Please open an issue at https://github.com/pytube/pytube/issues and provide this log output.\n",
      "Unexpected renderer encountered.\n",
      "Renderer name: dict_keys(['reelShelfRenderer'])\n",
      "Search term: banana\n",
      "Please open an issue at https://github.com/pytube/pytube/issues and provide this log output.\n",
      "c:\\Users\\rubenslima\\Desktop\\Faculdade\\RV2\\.rv\\Lib\\site-packages\\langchain_openai\\chat_models\\base.py:1582: UserWarning: Cannot use method='json_schema' with model gpt-3.5-turbo since it doesn't support OpenAI's Structured Output API. You can see supported models here: https://platform.openai.com/docs/guides/structured-outputs#supported-models. To fix this warning, set `method='function_calling'. Overriding to method='function_calling'.\n",
      "  warnings.warn(\n",
      "Unexpected renderer encountered.\n",
      "Renderer name: dict_keys(['reelShelfRenderer'])\n",
      "Search term: salmão\n",
      "Please open an issue at https://github.com/pytube/pytube/issues and provide this log output.\n",
      "Unexpected renderer encountered.\n",
      "Renderer name: dict_keys(['reelShelfRenderer'])\n",
      "Search term: salmão\n",
      "Please open an issue at https://github.com/pytube/pytube/issues and provide this log output.\n",
      "c:\\Users\\rubenslima\\Desktop\\Faculdade\\RV2\\.rv\\Lib\\site-packages\\langchain_openai\\chat_models\\base.py:1582: UserWarning: Cannot use method='json_schema' with model gpt-3.5-turbo since it doesn't support OpenAI's Structured Output API. You can see supported models here: https://platform.openai.com/docs/guides/structured-outputs#supported-models. To fix this warning, set `method='function_calling'. Overriding to method='function_calling'.\n",
      "  warnings.warn(\n",
      "c:\\Users\\rubenslima\\Desktop\\Faculdade\\RV2\\.rv\\Lib\\site-packages\\langchain_openai\\chat_models\\base.py:1582: UserWarning: Cannot use method='json_schema' with model gpt-3.5-turbo since it doesn't support OpenAI's Structured Output API. You can see supported models here: https://platform.openai.com/docs/guides/structured-outputs#supported-models. To fix this warning, set `method='function_calling'. Overriding to method='function_calling'.\n",
      "  warnings.warn(\n",
      "c:\\Users\\rubenslima\\Desktop\\Faculdade\\RV2\\.rv\\Lib\\site-packages\\langchain_openai\\chat_models\\base.py:1582: UserWarning: Cannot use method='json_schema' with model gpt-3.5-turbo since it doesn't support OpenAI's Structured Output API. You can see supported models here: https://platform.openai.com/docs/guides/structured-outputs#supported-models. To fix this warning, set `method='function_calling'. Overriding to method='function_calling'.\n",
      "  warnings.warn(\n",
      "c:\\Users\\rubenslima\\Desktop\\Faculdade\\RV2\\.rv\\Lib\\site-packages\\langchain_openai\\chat_models\\base.py:1582: UserWarning: Cannot use method='json_schema' with model gpt-3.5-turbo since it doesn't support OpenAI's Structured Output API. You can see supported models here: https://platform.openai.com/docs/guides/structured-outputs#supported-models. To fix this warning, set `method='function_calling'. Overriding to method='function_calling'.\n",
      "  warnings.warn(\n"
     ]
    }
   ],
   "source": [
    "openai_result = openai.find_recieves(ingredients)"
   ]
  },
  {
   "cell_type": "code",
   "execution_count": 12,
   "metadata": {},
   "outputs": [
    {
     "data": {
      "text/plain": [
       "{'ingredients': ['salmão', 'banana', 'ovo'],\n",
       " 'recieves_names': ['salmão', 'banana', 'ovo'],\n",
       " 'recieves_results': [{'images': [],\n",
       "   'ingredients': ['salmão',\n",
       "    'massa',\n",
       "    'mel',\n",
       "    'ananás',\n",
       "    'batatas',\n",
       "    'puré',\n",
       "    'legumes',\n",
       "    'salmão fumado',\n",
       "    'brócolos',\n",
       "    'sashimi',\n",
       "    'papelote',\n",
       "    'hambúrgueres',\n",
       "    'camarão',\n",
       "    'paté'],\n",
       "   'steps': ['1. Massa com salmão: Se é daquelas pessoas que nunca tem tempo suficiente para cozinhar comidas saudáveis, esta é a receita ideal para si! A massa com salmão é saudável mas também é rápida e fácil de fazer. E o melhor de tudo? É deliciosa! No fundo, é a prova que a comida não tem que ser feita lentamente para ser saborosa…',\n",
       "    '2. Salmão no forno com mel: Desta receita muito se pode dizer, mas o ideal é mesmo provar. O salmão no forno com mel fará certamente as delícias de miúdos e graúdos, pelo sabor, combinações e facilidade com que se degusta.',\n",
       "    '3. Salada de salmão: O salmão é um peixe rico em nutrientes essenciais para o bom funcionamento do nosso corpo, sendo por isso muito consumido em todo o mundo. A sua cor única e o seu sabor suave são o foco principal em muitos pratos, dos mais complexos aos mais simples, e com resultados de se comer e chorar por mais.',\n",
       "    '4. Espetadas de salmão no forno com ananás: Na verdade o truque desta receita está, para além da frescura dos ingredientes, no tempero que mais se adequar ao seu gosto. As espetadas de salmão no forno são bastante versáteis e interessantes.',\n",
       "    '5. Postas de salmão no forno com batatas: Nem sempre temos de complicar para ter excelentes iguarias na mesa. No caso que lhe apresentamos essa é a lógica do prato, pois as postas de salmão no forno com batatas trarão comida de conforto sem dificuldade.',\n",
       "    '6. Lombos de salmão com puré: Existem muitas formas de cozinhar salmão e esta pode muito bem ser uma das mais deliciosas. Ao fazer salmão no forno com puré terá a garantia de preparar um prato que irá agradar aos paladares mais exigentes.',\n",
       "    '7. Salmão no forno com legumes: O salmão é um daqueles peixes com inúmeras possibilidades. São tantas que, muitas vezes nem sequer sabemos bem como cozinhá-lo e acabamos por fazê-lo quase sempre da mesma forma: grelhado. Se é esse o seu caso, saiba que também pode fazê-lo no forno, acompanhado de legumes ao seu gosto.',\n",
       "    '8. Tostinhas com salmão fumado: Não será difícil apreciar a receita que lhe propomos, pois o sabor, textura e aspeto do ingrediente principal são normalmente muito apelativos. As tostinhas com salmão fumado dão muitas possibilidades de sucesso.',\n",
       "    '9. Massa com salmão fumado e brócolos: A massa com salmão fumado e brócolos que lhe apresentamos é uma receita que tem várias características interessantes. Desde logo a facilidade com que se aplica, mas igualmente o sabor e a versatilidade.',\n",
       "    '10. Sashimi de salmão fácil: Parece difícil quando se imagina o prato, mas essa é uma ideia que não é complicada de rebater. O sashimi de salmão fácil que lhe apresentamos certamente trará aos apreciadores momentos de prazer à mesa.',\n",
       "    '11. Papelote de salmão assado no forno: Não é por acaso que este é um peixe tão famoso e que pode ser preparado de muitas maneiras. Aqui trazemos uma óptima opção de papelote de salmão assado no forno. Verifique atentamente, pois pode fazer as delícias de todos no próximo almoço ou jantar.',\n",
       "    '12. Hambúrgueres de salmão: São uma delícia estes hambúrgueres de salmão que lhe propomos. Com a preparação apresentada pode dar largas à imaginação e avançar para esta receita sem qualquer receio de ter sucesso.',\n",
       "    '13. Canapés de salmão fumado: A receita que lhe apresentamos conquista por muitos motivos e estamos certos que quem provar não vai querer só um. Será difícil resistir aos canapés de salmão pela sua apresentação, mas principalmente pelo seu sabor.',\n",
       "    '14. Massa preta com salmão e camarão: Esta massa preta com salmão e camarão é bastante prática e permite-lhe rentabilizar um preparado para as suas refeições. Se seguir as nossas dicas pode ter uma refeição deliciosa para miúdos e graúdos.',\n",
       "    '15. Paté de salmão: A receita que apresentamos é sem dúvida muito interessante. O paté de salmão adapta-se a refeição principal, entrada ou snack sempre em grande estilo. E pode adaptá-lo muito ao seu gosto.'],\n",
       "   'videos': ['https://youtube.com/watch?v=zaZeV5X93Ts',\n",
       "    'https://youtube.com/watch?v=9dNmg6Ig94Q',\n",
       "    'https://youtube.com/watch?v=KRXIBS0hAxs',\n",
       "    'https://youtube.com/watch?v=-1WxJTydp6o'],\n",
       "   'title': 'Salmão',\n",
       "   'url': 'https://ruralea.com/receitas-com-salmao-15-ideias-faceis-simples-e-deliciosas/'},\n",
       "  {'images': [],\n",
       "   'ingredients': ['banana',\n",
       "    'liquidificador',\n",
       "    'bolinho',\n",
       "    'nanica',\n",
       "    'doce',\n",
       "    'milanesa',\n",
       "    'pudim',\n",
       "    'leite condensado',\n",
       "    'geladinho',\n",
       "    'bananinha',\n",
       "    'bolo',\n",
       "    'caramelizada',\n",
       "    'batida',\n",
       "    'geleia',\n",
       "    'mousse',\n",
       "    'frita',\n",
       "    'biomassa',\n",
       "    'verde',\n",
       "    'torta',\n",
       "    'creme',\n",
       "    'suspiro',\n",
       "    'cuca',\n",
       "    'flambada',\n",
       "    'cookie',\n",
       "    'verde',\n",
       "    'pão',\n",
       "    'chocolate',\n",
       "    'recheio',\n",
       "    'prata'],\n",
       "   'steps': [],\n",
       "   'videos': ['https://youtube.com/watch?v=fU1KKvbCrRI',\n",
       "    'https://youtube.com/watch?v=sy9l7y7npGs',\n",
       "    'https://youtube.com/watch?v=wCkerYMffMo',\n",
       "    'https://youtube.com/watch?v=ig7EKb6BrQk'],\n",
       "   'title': 'Banana',\n",
       "   'url': 'https://comidinhasdochef.com/listas/receitas-com-banana-simples-aprenda-a-fazer/'}]}"
      ]
     },
     "execution_count": 12,
     "metadata": {},
     "output_type": "execute_result"
    }
   ],
   "source": [
    "openai_result"
   ]
  },
  {
   "cell_type": "code",
   "execution_count": 13,
   "metadata": {},
   "outputs": [
    {
     "data": {
      "text/plain": [
       "{'ingredients': ['salmão', 'banana', 'ovo'],\n",
       " 'recieves_names': ['Salmão Grelhado com Banana',\n",
       "  'Omelete de Salmão e Banana',\n",
       "  'Torta de Ovo com Salmão'],\n",
       " 'recieves_results': [{'images': [],\n",
       "   'ingredients': ['Salmão', 'risoto de banana-da-terra'],\n",
       "   'steps': ['Molho agridoce:', 'Salmão e risoto:'],\n",
       "   'videos': ['https://youtube.com/watch?v=oJSLBzUb6Bw',\n",
       "    'https://youtube.com/watch?v=OKE2OMlU-tw',\n",
       "    'https://youtube.com/watch?v=NFMJNEPs2f8',\n",
       "    'https://youtube.com/watch?v=ccBOXX-IUMw'],\n",
       "   'title': 'Salmão grelhado com banana',\n",
       "   'url': 'http://www.cookpedia.com.br/receita/223380-salmao-grelhado-com-risoto-de-banana-da-terra-e-molho-agridoce'},\n",
       "  {'images': [],\n",
       "   'ingredients': ['3 ovos',\n",
       "    '1 copo de leite',\n",
       "    '1 colher de chá de bicarbonato polpa das cascas de 4 bananas',\n",
       "    'sal',\n",
       "    'queijo ralado'],\n",
       "   'steps': ['Lave bem as bananas.',\n",
       "    'Coloque para ferver por quinze minutos.',\n",
       "    'Escorra.',\n",
       "    'Para fazer a polpa, passe as cascas pelo moedor de carne misture a massa com os ovos, o sal e o queijo na batedeira.',\n",
       "    'Aí é só fritar.'],\n",
       "   'videos': ['https://youtube.com/watch?v=aJpnpiP7bTU',\n",
       "    'https://youtube.com/watch?v=DSej8fSWJDE',\n",
       "    'https://youtube.com/watch?v=dmM_fCViyLE',\n",
       "    'https://youtube.com/watch?v=OBW3dW9m-08'],\n",
       "   'title': 'Omelete de salmão e banana',\n",
       "   'url': 'https://www.cozinhabrasileira.com/salgados/omelete_com_cascas_de_banana.html'},\n",
       "  {'images': [],\n",
       "   'ingredients': ['pão fatiado',\n",
       "    'surimi',\n",
       "    'ovo cozido',\n",
       "    'maionese',\n",
       "    'ketchup',\n",
       "    'salmão defumado'],\n",
       "   'steps': ['Em uma panela pequena, adicione o três ovos e colocamos para cozinhar. Quando começar a ferver contamos Minutos 12 e nós os tiramos da água. Nós os deixamos esfriar.',\n",
       "    'Nós escolhemos uma forma tipo bolo de ameixa, aproximadamente 22 cm de comprimento. Cobrimos com salmão defumado, cobriremos todos os lados para que não fique espaço vazio.',\n",
       "    'Em uma tábua, pique finamente o 300g de surimi. Também cortamos finamente os três ovos cozidos.',\n",
       "    'Colocamos em uma tigela e misturamos com a maionese e o duas colheres de sopa de ketchup.',\n",
       "    'Colocamos duas fatias de pão no fundo da forma. Adicionamos metade da mistura para preparar o primeira camada.',\n",
       "    'Colocamos duas fatias de pão por cima e o resto da mistura de surimi. Voltamos para colocar duas fatias de pão.',\n",
       "    'Cobrimos com salmão defumado, para que fique coberto por todos os lados e cantos. Se necessário, compacte bem todo o bolo com as mãos. Colocamos na geladeira por cerca de uma hora para terminar de endurecer.',\n",
       "    'Desenformamos e podemos servir. Usaremos uma faca bem afiada para fazer as porções.'],\n",
       "   'videos': ['https://youtube.com/watch?v=A8RM4Y0rCFk',\n",
       "    'https://youtube.com/watch?v=glCLCyFa1j8',\n",
       "    'https://youtube.com/watch?v=8fTYo4stBn0',\n",
       "    'https://youtube.com/watch?v=5J9fKwpRreM'],\n",
       "   'title': 'Torta de ovo com salmão',\n",
       "   'url': 'https://pt.recetin.com/torta-de-salmão-com-surimi-e-ovo.html'}]}"
      ]
     },
     "execution_count": 13,
     "metadata": {},
     "output_type": "execute_result"
    }
   ],
   "source": [
    "ollama_result"
   ]
  },
  {
   "cell_type": "code",
   "execution_count": 9,
   "metadata": {},
   "outputs": [
    {
     "data": {
      "text/plain": [
       "[RecieveResult(images=[], ingredients=['salmão', 'laranjas', 'alho', 'cebola', 'batatas', 'sal', 'pimenta', 'abobrinha', 'cenoura', 'pimentão', 'tomate', 'azeite', 'orégano', 'vinho branco', 'requeijão', 'espaguete de legumes', 'arroz integral', 'suco de laranja', 'manteiga', 'manjericão', 'camarão', 'shoyu', 'pasta de alho', 'rum', 'mostarda', 'limão', 'limão, sal, pimenta, orégano, óleo, ervas finas e alcaparras', 'mostarda amarela', 'azeite de oliva', 'raspas de limão', 'creme de leite', 'alho, manteiga, azeite, raspas de limão, sal e pimenta branca', 'suco de limão', 'manjericão', 'mel', 'azeite de oliva', 'alho', 'pimenta vermelha picada', 'pimentões coloridos', 'agrião', 'vinagre balsâmico', 'sal', 'pimenta', 'batata-doce', 'azeite', 'sal', 'pimenta moída', 'gergelim', 'purê de abóbora', 'salada verde', 'arroz cru', 'louro', 'tomilho', 'oréganos', 'alface', 'muçarela de búfala', 'tomates-cereja', 'azeite, limão, sal, pimenta e orégano', 'penne', 'aspargos', 'cebola roxa', 'limão siciliano', 'vinho branco', 'creme de leite', 'sal', 'leite integral', 'trigo', 'ovo', 'sal', 'leite', 'pepino', 'creme de leite fresco'], steps=['Asse o salmão no forno ou na brasa da churrasqueira.', 'Sirva o salmão assado com batatas e salada de vegetais frescos.', 'Asse o salmão com abobrinha, cenoura, cebola, pimentão e tomate, cortados em rodelas e temperados com alho, azeite, orégano e vinho branco.', 'Sirva o salmão com molho de requeijão e espaguete de legumes, arroz integral ou outro acompanhamento.', 'Asse o filé de salmão com molho de laranja, cebola, manteiga e temperos.', 'Acompanhe o peixe com salada fresca e purê de batatas ou de mandioquinha.', 'Prepare o molho de camarão amanteigado e temperado com shoyu, pasta de alho, rum, mostarda, limão e azeite.', 'Grelhe o salmão na chapa multiuso ou no grill.', 'Marine o peixe no tempero de limão, sal, pimenta, orégano, óleo, ervas finas e alcaparras.', 'Prepare o molho de mostarda com mostarda amarela, azeite de oliva, raspas de limão e creme de leite.', 'Tempere o salmão com alho, manteiga, azeite, raspas de limão, sal e pimenta branca.', 'Prepare o molho de mel e pimenta com suco de limão, manjericão, mel, azeite de oliva, alho, pimenta vermelha picada, pimentões coloridos, agrião, vinagre balsâmico, sal e pimenta.', 'Combine o salmão grelhado com batata-doce.', 'Envolva o filé de salmão em azeite, sal, pimenta moída e gergelim.', 'Sirva com purê de abóbora e salada verde.', 'Defume o salmão em casa com uma frigideira, grelha, papel alumínio, arroz cru, louro, tomilho e oréganos.', 'Cubra torradinhas, bolachinhas ou salgadinhos com creme de salmão defumado.', 'Misture salmão defumado com alface, muçarela de búfala, tomates-cereja e os temperos que mais gostar.', 'Prepare um molho amanteigado e cremoso para massas com salmão defumado, aspargos, cebola roxa, limão siciliano, vinho branco, creme de leite, sal e leite integral.', 'Recheie panquecas com salmão defumado, trigo, ovo, sal, leite, pepino, creme de leite fresco e temperinhos.'], videos=['https://youtube.com/watch?v=zaZeV5X93Ts', 'https://youtube.com/watch?v=9dNmg6Ig94Q', 'https://youtube.com/watch?v=GNo6S0skwnE', 'https://youtube.com/watch?v=fYG88LB9o1E'], title='Salmão', url='https://www.dicasonline.com/receitas-de-salmao/'),\n",
       " RecieveResult(images=[], ingredients=['1 xícara de açúcar', 'bananas', 'ovos', 'leite', 'óleo', 'farinha de trigo', 'canela', 'fermento'], steps=['Comece preparando o caramelo. Em uma panela leve 1 xícara de açúcar ao fogo médio, mexendo ocasionalmente até derreter e formar um caramelo dourado. Adicione a água quente as os poucos e com cuidado, mexendo até que o caramelo fique homogêneo. Se necessário, deixe em fogo baixo até dissolver completamente e ficar no ponto desejado.', 'Despeje o caramelo em uma forma retangular ou redonda previamente untada. Corte as bananas em fatias no sentido do comprimento e coloque-as sobre o caramelo cobrindo toda a base da forma. Reserve.', 'No liquidificador, bata os ovos, o açúcar, o leite e o óleo até obter uma mistura homogênea.', 'Acrescente a farinha de trigo aos poucos e a canela (se optar por usá-la) e bata novamente até a massa ficar bem incorporada e lisinha.', 'Adicione o fermento e misture delicadamente com uma colher ou espátula, sem bater no liquidificador, para garantir que o bolo fique bem fofinho.', 'Despeje a massa sobre as bananas caramelizadas na forma. Leve ao forno pré-aquecido a 180 °C por aproximadamente 35 a 45 minutos.', 'Retire o bolo do forno e espere pelo menos 10 minutos para desenformar. Se tiver dificuldade nessa hora, passe a faca pelas laterais da forma. Coloque um prato grande sobre a forma e vire rapidamente. Você pode deixar o bolo inteiro ou cortar em quadrados enquanto ainda está quentinho.'], videos=['https://youtube.com/watch?v=fU1KKvbCrRI', 'https://youtube.com/watch?v=sy9l7y7npGs', 'https://youtube.com/watch?v=-aIhPtaTQ6c', 'https://youtube.com/watch?v=ig7EKb6BrQk'], title='Banana', url='https://www.tudoreceitas.com/receita-de-bolo-de-banana-caramelizada-de-liquidificador-12431.html')]"
      ]
     },
     "execution_count": 9,
     "metadata": {},
     "output_type": "execute_result"
    }
   ],
   "source": [
    "from src.utils.ai.tools_model.schemas import RecieveResult\n",
    "\n",
    "results = [RecieveResult(**recipe) for recipe in gemini_result[\"recieves_results\"]]\n",
    "\n",
    "results"
   ]
  }
 ],
 "metadata": {
  "kernelspec": {
   "display_name": ".rv",
   "language": "python",
   "name": "python3"
  },
  "language_info": {
   "codemirror_mode": {
    "name": "ipython",
    "version": 3
   },
   "file_extension": ".py",
   "mimetype": "text/x-python",
   "name": "python",
   "nbconvert_exporter": "python",
   "pygments_lexer": "ipython3",
   "version": "3.12.9"
  }
 },
 "nbformat": 4,
 "nbformat_minor": 2
}
