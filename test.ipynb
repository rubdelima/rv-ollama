{
 "cells": [
  {
   "cell_type": "code",
   "execution_count": 1,
   "metadata": {},
   "outputs": [],
   "source": [
    "from lib.tools_model import ToolsModel"
   ]
  },
  {
   "cell_type": "code",
   "execution_count": 2,
   "metadata": {},
   "outputs": [],
   "source": [
    "ollama_model = ToolsModel(\"llama3.1:8b-instruct-q8_0\", \"ollama\")\n"
   ]
  },
  {
   "cell_type": "code",
   "execution_count": 3,
   "metadata": {},
   "outputs": [],
   "source": [
    "gemini_model = ToolsModel(\"gemini-2.0-flash\", \"gemini\")"
   ]
  },
  {
   "cell_type": "code",
   "execution_count": 4,
   "metadata": {},
   "outputs": [],
   "source": [
    "openai = ToolsModel(\"gpt-3.5-turbo\", \"openai\")"
   ]
  },
  {
   "cell_type": "code",
   "execution_count": 5,
   "metadata": {},
   "outputs": [],
   "source": [
    "ingredients = [\"salmão\", \"banana\", \"ovo\"]"
   ]
  },
  {
   "cell_type": "code",
   "execution_count": 6,
   "metadata": {},
   "outputs": [
    {
     "name": "stderr",
     "output_type": "stream",
     "text": [
      "Unexpected renderer encountered.\n",
      "Renderer name: dict_keys(['reelShelfRenderer'])\n",
      "Search term: Torta de Ovo com Salmão\n",
      "Please open an issue at https://github.com/pytube/pytube/issues and provide this log output.\n",
      "Unexpected renderer encountered.\n",
      "Renderer name: dict_keys(['reelShelfRenderer'])\n",
      "Search term: Torta de Ovo com Salmão\n",
      "Please open an issue at https://github.com/pytube/pytube/issues and provide this log output.\n",
      "Unexpected renderer encountered.\n",
      "Renderer name: dict_keys(['reelShelfRenderer'])\n",
      "Search term: Omelete de Salmão e Banana\n",
      "Please open an issue at https://github.com/pytube/pytube/issues and provide this log output.\n",
      "Unexpected renderer encountered.\n",
      "Renderer name: dict_keys(['reelShelfRenderer'])\n",
      "Search term: Omelete de Salmão e Banana\n",
      "Please open an issue at https://github.com/pytube/pytube/issues and provide this log output.\n",
      "Unexpected renderer encountered.\n",
      "Renderer name: dict_keys(['reelShelfRenderer'])\n",
      "Search term: Salmão Grelhado com Banana\n",
      "Please open an issue at https://github.com/pytube/pytube/issues and provide this log output.\n",
      "Unexpected renderer encountered.\n",
      "Renderer name: dict_keys(['reelShelfRenderer'])\n",
      "Search term: Salmão Grelhado com Banana\n",
      "Please open an issue at https://github.com/pytube/pytube/issues and provide this log output.\n"
     ]
    }
   ],
   "source": [
    "ollama_result = ollama_model.find_recieves(ingredients)"
   ]
  },
  {
   "cell_type": "code",
   "execution_count": 7,
   "metadata": {},
   "outputs": [
    {
     "name": "stderr",
     "output_type": "stream",
     "text": [
      "Unexpected renderer encountered.\n",
      "Renderer name: dict_keys(['reelShelfRenderer'])\n",
      "Search term: salmão\n",
      "Please open an issue at https://github.com/pytube/pytube/issues and provide this log output.\n",
      "Unexpected renderer encountered.\n",
      "Renderer name: dict_keys(['reelShelfRenderer'])\n",
      "Search term: salmão\n",
      "Please open an issue at https://github.com/pytube/pytube/issues and provide this log output.\n",
      "Unexpected renderer encountered.\n",
      "Renderer name: dict_keys(['reelShelfRenderer'])\n",
      "Search term: banana\n",
      "Please open an issue at https://github.com/pytube/pytube/issues and provide this log output.\n",
      "Unexpected renderer encountered.\n",
      "Renderer name: dict_keys(['reelShelfRenderer'])\n",
      "Search term: banana\n",
      "Please open an issue at https://github.com/pytube/pytube/issues and provide this log output.\n",
      "Unexpected renderer encountered.\n",
      "Renderer name: dict_keys(['lockupViewModel'])\n",
      "Search term: banana\n",
      "Please open an issue at https://github.com/pytube/pytube/issues and provide this log output.\n",
      "Unexpected renderer encountered.\n",
      "Renderer name: dict_keys(['reelShelfRenderer'])\n",
      "Search term: ovo\n",
      "Please open an issue at https://github.com/pytube/pytube/issues and provide this log output.\n",
      "Unexpected renderer encountered.\n",
      "Renderer name: dict_keys(['reelShelfRenderer'])\n",
      "Search term: ovo\n",
      "Please open an issue at https://github.com/pytube/pytube/issues and provide this log output.\n",
      "Unexpected renderer encountered.\n",
      "Renderer name: dict_keys(['lockupViewModel'])\n",
      "Search term: ovo\n",
      "Please open an issue at https://github.com/pytube/pytube/issues and provide this log output.\n"
     ]
    }
   ],
   "source": [
    "gemini_result = gemini_model.find_recieves(ingredients)"
   ]
  },
  {
   "cell_type": "code",
   "execution_count": 8,
   "metadata": {},
   "outputs": [
    {
     "name": "stderr",
     "output_type": "stream",
     "text": [
      "c:\\Users\\rubenslima\\Desktop\\Faculdade\\RV2\\.rv\\Lib\\site-packages\\langchain_openai\\chat_models\\base.py:1582: UserWarning: Cannot use method='json_schema' with model gpt-3.5-turbo since it doesn't support OpenAI's Structured Output API. You can see supported models here: https://platform.openai.com/docs/guides/structured-outputs#supported-models. To fix this warning, set `method='function_calling'. Overriding to method='function_calling'.\n",
      "  warnings.warn(\n",
      "c:\\Users\\rubenslima\\Desktop\\Faculdade\\RV2\\.rv\\Lib\\site-packages\\langchain_openai\\chat_models\\base.py:1582: UserWarning: Cannot use method='json_schema' with model gpt-3.5-turbo since it doesn't support OpenAI's Structured Output API. You can see supported models here: https://platform.openai.com/docs/guides/structured-outputs#supported-models. To fix this warning, set `method='function_calling'. Overriding to method='function_calling'.\n",
      "  warnings.warn(\n",
      "c:\\Users\\rubenslima\\Desktop\\Faculdade\\RV2\\.rv\\Lib\\site-packages\\langchain_openai\\chat_models\\base.py:1582: UserWarning: Cannot use method='json_schema' with model gpt-3.5-turbo since it doesn't support OpenAI's Structured Output API. You can see supported models here: https://platform.openai.com/docs/guides/structured-outputs#supported-models. To fix this warning, set `method='function_calling'. Overriding to method='function_calling'.\n",
      "  warnings.warn(\n",
      "c:\\Users\\rubenslima\\Desktop\\Faculdade\\RV2\\.rv\\Lib\\site-packages\\langchain_openai\\chat_models\\base.py:1582: UserWarning: Cannot use method='json_schema' with model gpt-3.5-turbo since it doesn't support OpenAI's Structured Output API. You can see supported models here: https://platform.openai.com/docs/guides/structured-outputs#supported-models. To fix this warning, set `method='function_calling'. Overriding to method='function_calling'.\n",
      "  warnings.warn(\n",
      "c:\\Users\\rubenslima\\Desktop\\Faculdade\\RV2\\.rv\\Lib\\site-packages\\langchain_openai\\chat_models\\base.py:1582: UserWarning: Cannot use method='json_schema' with model gpt-3.5-turbo since it doesn't support OpenAI's Structured Output API. You can see supported models here: https://platform.openai.com/docs/guides/structured-outputs#supported-models. To fix this warning, set `method='function_calling'. Overriding to method='function_calling'.\n",
      "  warnings.warn(\n",
      "c:\\Users\\rubenslima\\Desktop\\Faculdade\\RV2\\.rv\\Lib\\site-packages\\langchain_openai\\chat_models\\base.py:1582: UserWarning: Cannot use method='json_schema' with model gpt-3.5-turbo since it doesn't support OpenAI's Structured Output API. You can see supported models here: https://platform.openai.com/docs/guides/structured-outputs#supported-models. To fix this warning, set `method='function_calling'. Overriding to method='function_calling'.\n",
      "  warnings.warn(\n",
      "c:\\Users\\rubenslima\\Desktop\\Faculdade\\RV2\\.rv\\Lib\\site-packages\\langchain_openai\\chat_models\\base.py:1582: UserWarning: Cannot use method='json_schema' with model gpt-3.5-turbo since it doesn't support OpenAI's Structured Output API. You can see supported models here: https://platform.openai.com/docs/guides/structured-outputs#supported-models. To fix this warning, set `method='function_calling'. Overriding to method='function_calling'.\n",
      "  warnings.warn(\n",
      "c:\\Users\\rubenslima\\Desktop\\Faculdade\\RV2\\.rv\\Lib\\site-packages\\langchain_openai\\chat_models\\base.py:1582: UserWarning: Cannot use method='json_schema' with model gpt-3.5-turbo since it doesn't support OpenAI's Structured Output API. You can see supported models here: https://platform.openai.com/docs/guides/structured-outputs#supported-models. To fix this warning, set `method='function_calling'. Overriding to method='function_calling'.\n",
      "  warnings.warn(\n",
      "c:\\Users\\rubenslima\\Desktop\\Faculdade\\RV2\\.rv\\Lib\\site-packages\\langchain_openai\\chat_models\\base.py:1582: UserWarning: Cannot use method='json_schema' with model gpt-3.5-turbo since it doesn't support OpenAI's Structured Output API. You can see supported models here: https://platform.openai.com/docs/guides/structured-outputs#supported-models. To fix this warning, set `method='function_calling'. Overriding to method='function_calling'.\n",
      "  warnings.warn(\n",
      "Unexpected renderer encountered.\n",
      "Renderer name: dict_keys(['reelShelfRenderer'])\n",
      "Search term: banana\n",
      "Please open an issue at https://github.com/pytube/pytube/issues and provide this log output.\n",
      "Unexpected renderer encountered.\n",
      "Renderer name: dict_keys(['lockupViewModel'])\n",
      "Search term: banana\n",
      "Please open an issue at https://github.com/pytube/pytube/issues and provide this log output.\n",
      "Unexpected renderer encountered.\n",
      "Renderer name: dict_keys(['reelShelfRenderer'])\n",
      "Search term: banana\n",
      "Please open an issue at https://github.com/pytube/pytube/issues and provide this log output.\n",
      "c:\\Users\\rubenslima\\Desktop\\Faculdade\\RV2\\.rv\\Lib\\site-packages\\langchain_openai\\chat_models\\base.py:1582: UserWarning: Cannot use method='json_schema' with model gpt-3.5-turbo since it doesn't support OpenAI's Structured Output API. You can see supported models here: https://platform.openai.com/docs/guides/structured-outputs#supported-models. To fix this warning, set `method='function_calling'. Overriding to method='function_calling'.\n",
      "  warnings.warn(\n",
      "Unexpected renderer encountered.\n",
      "Renderer name: dict_keys(['reelShelfRenderer'])\n",
      "Search term: salmão\n",
      "Please open an issue at https://github.com/pytube/pytube/issues and provide this log output.\n",
      "Unexpected renderer encountered.\n",
      "Renderer name: dict_keys(['reelShelfRenderer'])\n",
      "Search term: salmão\n",
      "Please open an issue at https://github.com/pytube/pytube/issues and provide this log output.\n",
      "c:\\Users\\rubenslima\\Desktop\\Faculdade\\RV2\\.rv\\Lib\\site-packages\\langchain_openai\\chat_models\\base.py:1582: UserWarning: Cannot use method='json_schema' with model gpt-3.5-turbo since it doesn't support OpenAI's Structured Output API. You can see supported models here: https://platform.openai.com/docs/guides/structured-outputs#supported-models. To fix this warning, set `method='function_calling'. Overriding to method='function_calling'.\n",
      "  warnings.warn(\n",
      "c:\\Users\\rubenslima\\Desktop\\Faculdade\\RV2\\.rv\\Lib\\site-packages\\langchain_openai\\chat_models\\base.py:1582: UserWarning: Cannot use method='json_schema' with model gpt-3.5-turbo since it doesn't support OpenAI's Structured Output API. You can see supported models here: https://platform.openai.com/docs/guides/structured-outputs#supported-models. To fix this warning, set `method='function_calling'. Overriding to method='function_calling'.\n",
      "  warnings.warn(\n",
      "c:\\Users\\rubenslima\\Desktop\\Faculdade\\RV2\\.rv\\Lib\\site-packages\\langchain_openai\\chat_models\\base.py:1582: UserWarning: Cannot use method='json_schema' with model gpt-3.5-turbo since it doesn't support OpenAI's Structured Output API. You can see supported models here: https://platform.openai.com/docs/guides/structured-outputs#supported-models. To fix this warning, set `method='function_calling'. Overriding to method='function_calling'.\n",
      "  warnings.warn(\n",
      "c:\\Users\\rubenslima\\Desktop\\Faculdade\\RV2\\.rv\\Lib\\site-packages\\langchain_openai\\chat_models\\base.py:1582: UserWarning: Cannot use method='json_schema' with model gpt-3.5-turbo since it doesn't support OpenAI's Structured Output API. You can see supported models here: https://platform.openai.com/docs/guides/structured-outputs#supported-models. To fix this warning, set `method='function_calling'. Overriding to method='function_calling'.\n",
      "  warnings.warn(\n"
     ]
    }
   ],
   "source": [
    "openai_result = openai.find_recieves(ingredients)"
   ]
  },
  {
   "cell_type": "code",
   "execution_count": 12,
   "metadata": {},
   "outputs": [
    {
     "data": {
      "text/plain": [
       "{'ingredients': ['salmão', 'banana', 'ovo'],\n",
       " 'recieves_names': ['salmão', 'banana', 'ovo'],\n",
       " 'recieves_results': [{'images': [],\n",
       "   'ingredients': ['salmão',\n",
       "    'massa',\n",
       "    'mel',\n",
       "    'ananás',\n",
       "    'batatas',\n",
       "    'puré',\n",
       "    'legumes',\n",
       "    'salmão fumado',\n",
       "    'brócolos',\n",
       "    'sashimi',\n",
       "    'papelote',\n",
       "    'hambúrgueres',\n",
       "    'camarão',\n",
       "    'paté'],\n",
       "   'steps': ['1. Massa com salmão: Se é daquelas pessoas que nunca tem tempo suficiente para cozinhar comidas saudáveis, esta é a receita ideal para si! A massa com salmão é saudável mas também é rápida e fácil de fazer. E o melhor de tudo? É deliciosa! No fundo, é a prova que a comida não tem que ser feita lentamente para ser saborosa…',\n",
       "    '2. Salmão no forno com mel: Desta receita muito se pode dizer, mas o ideal é mesmo provar. O salmão no forno com mel fará certamente as delícias de miúdos e graúdos, pelo sabor, combinações e facilidade com que se degusta.',\n",
       "    '3. Salada de salmão: O salmão é um peixe rico em nutrientes essenciais para o bom funcionamento do nosso corpo, sendo por isso muito consumido em todo o mundo. A sua cor única e o seu sabor suave são o foco principal em muitos pratos, dos mais complexos aos mais simples, e com resultados de se comer e chorar por mais.',\n",
       "    '4. Espetadas de salmão no forno com ananás: Na verdade o truque desta receita está, para além da frescura dos ingredientes, no tempero que mais se adequar ao seu gosto. As espetadas de salmão no forno são bastante versáteis e interessantes.',\n",
       "    '5. Postas de salmão no forno com batatas: Nem sempre temos de complicar para ter excelentes iguarias na mesa. No caso que lhe apresentamos essa é a lógica do prato, pois as postas de salmão no forno com batatas trarão comida de conforto sem dificuldade.',\n",
       "    '6. Lombos de salmão com puré: Existem muitas formas de cozinhar salmão e esta pode muito bem ser uma das mais deliciosas. Ao fazer salmão no forno com puré terá a garantia de preparar um prato que irá agradar aos paladares mais exigentes.',\n",
       "    '7. Salmão no forno com legumes: O salmão é um daqueles peixes com inúmeras possibilidades. São tantas que, muitas vezes nem sequer sabemos bem como cozinhá-lo e acabamos por fazê-lo quase sempre da mesma forma: grelhado. Se é esse o seu caso, saiba que também pode fazê-lo no forno, acompanhado de legumes ao seu gosto.',\n",
       "    '8. Tostinhas com salmão fumado: Não será difícil apreciar a receita que lhe propomos, pois o sabor, textura e aspeto do ingrediente principal são normalmente muito apelativos. As tostinhas com salmão fumado dão muitas possibilidades de sucesso.',\n",
       "    '9. Massa com salmão fumado e brócolos: A massa com salmão fumado e brócolos que lhe apresentamos é uma receita que tem várias características interessantes. Desde logo a facilidade com que se aplica, mas igualmente o sabor e a versatilidade.',\n",
       "    '10. Sashimi de salmão fácil: Parece difícil quando se imagina o prato, mas essa é uma ideia que não é complicada de rebater. O sashimi de salmão fácil que lhe apresentamos certamente trará aos apreciadores momentos de prazer à mesa.',\n",
       "    '11. Papelote de salmão assado no forno: Não é por acaso que este é um peixe tão famoso e que pode ser preparado de muitas maneiras. Aqui trazemos uma óptima opção de papelote de salmão assado no forno. Verifique atentamente, pois pode fazer as delícias de todos no próximo almoço ou jantar.',\n",
       "    '12. Hambúrgueres de salmão: São uma delícia estes hambúrgueres de salmão que lhe propomos. Com a preparação apresentada pode dar largas à imaginação e avançar para esta receita sem qualquer receio de ter sucesso.',\n",
       "    '13. Canapés de salmão fumado: A receita que lhe apresentamos conquista por muitos motivos e estamos certos que quem provar não vai querer só um. Será difícil resistir aos canapés de salmão pela sua apresentação, mas principalmente pelo seu sabor.',\n",
       "    '14. Massa preta com salmão e camarão: Esta massa preta com salmão e camarão é bastante prática e permite-lhe rentabilizar um preparado para as suas refeições. Se seguir as nossas dicas pode ter uma refeição deliciosa para miúdos e graúdos.',\n",
       "    '15. Paté de salmão: A receita que apresentamos é sem dúvida muito interessante. O paté de salmão adapta-se a refeição principal, entrada ou snack sempre em grande estilo. E pode adaptá-lo muito ao seu gosto.'],\n",
       "   'videos': ['https://youtube.com/watch?v=zaZeV5X93Ts',\n",
       "    'https://youtube.com/watch?v=9dNmg6Ig94Q',\n",
       "    'https://youtube.com/watch?v=KRXIBS0hAxs',\n",
       "    'https://youtube.com/watch?v=-1WxJTydp6o'],\n",
       "   'title': 'Salmão',\n",
       "   'url': 'https://ruralea.com/receitas-com-salmao-15-ideias-faceis-simples-e-deliciosas/'},\n",
       "  {'images': [],\n",
       "   'ingredients': ['banana',\n",
       "    'liquidificador',\n",
       "    'bolinho',\n",
       "    'nanica',\n",
       "    'doce',\n",
       "    'milanesa',\n",
       "    'pudim',\n",
       "    'leite condensado',\n",
       "    'geladinho',\n",
       "    'bananinha',\n",
       "    'bolo',\n",
       "    'caramelizada',\n",
       "    'batida',\n",
       "    'geleia',\n",
       "    'mousse',\n",
       "    'frita',\n",
       "    'biomassa',\n",
       "    'verde',\n",
       "    'torta',\n",
       "    'creme',\n",
       "    'suspiro',\n",
       "    'cuca',\n",
       "    'flambada',\n",
       "    'cookie',\n",
       "    'verde',\n",
       "    'pão',\n",
       "    'chocolate',\n",
       "    'recheio',\n",
       "    'prata'],\n",
       "   'steps': [],\n",
       "   'videos': ['https://youtube.com/watch?v=fU1KKvbCrRI',\n",
       "    'https://youtube.com/watch?v=sy9l7y7npGs',\n",
       "    'https://youtube.com/watch?v=wCkerYMffMo',\n",
       "    'https://youtube.com/watch?v=ig7EKb6BrQk'],\n",
       "   'title': 'Banana',\n",
       "   'url': 'https://comidinhasdochef.com/listas/receitas-com-banana-simples-aprenda-a-fazer/'}]}"
      ]
     },
     "execution_count": 12,
     "metadata": {},
     "output_type": "execute_result"
    }
   ],
   "source": [
    "openai_result"
   ]
  },
  {
   "cell_type": "code",
   "execution_count": 13,
   "metadata": {},
   "outputs": [
    {
     "data": {
      "text/plain": [
       "{'ingredients': ['salmão', 'banana', 'ovo'],\n",
       " 'recieves_names': ['Salmão Grelhado com Banana',\n",
       "  'Omelete de Salmão e Banana',\n",
       "  'Torta de Ovo com Salmão'],\n",
       " 'recieves_results': [{'images': [],\n",
       "   'ingredients': ['Salmão', 'risoto de banana-da-terra'],\n",
       "   'steps': ['Molho agridoce:', 'Salmão e risoto:'],\n",
       "   'videos': ['https://youtube.com/watch?v=oJSLBzUb6Bw',\n",
       "    'https://youtube.com/watch?v=OKE2OMlU-tw',\n",
       "    'https://youtube.com/watch?v=NFMJNEPs2f8',\n",
       "    'https://youtube.com/watch?v=ccBOXX-IUMw'],\n",
       "   'title': 'Salmão grelhado com banana',\n",
       "   'url': 'http://www.cookpedia.com.br/receita/223380-salmao-grelhado-com-risoto-de-banana-da-terra-e-molho-agridoce'},\n",
       "  {'images': [],\n",
       "   'ingredients': ['3 ovos',\n",
       "    '1 copo de leite',\n",
       "    '1 colher de chá de bicarbonato polpa das cascas de 4 bananas',\n",
       "    'sal',\n",
       "    'queijo ralado'],\n",
       "   'steps': ['Lave bem as bananas.',\n",
       "    'Coloque para ferver por quinze minutos.',\n",
       "    'Escorra.',\n",
       "    'Para fazer a polpa, passe as cascas pelo moedor de carne misture a massa com os ovos, o sal e o queijo na batedeira.',\n",
       "    'Aí é só fritar.'],\n",
       "   'videos': ['https://youtube.com/watch?v=aJpnpiP7bTU',\n",
       "    'https://youtube.com/watch?v=DSej8fSWJDE',\n",
       "    'https://youtube.com/watch?v=dmM_fCViyLE',\n",
       "    'https://youtube.com/watch?v=OBW3dW9m-08'],\n",
       "   'title': 'Omelete de salmão e banana',\n",
       "   'url': 'https://www.cozinhabrasileira.com/salgados/omelete_com_cascas_de_banana.html'},\n",
       "  {'images': [],\n",
       "   'ingredients': ['pão fatiado',\n",
       "    'surimi',\n",
       "    'ovo cozido',\n",
       "    'maionese',\n",
       "    'ketchup',\n",
       "    'salmão defumado'],\n",
       "   'steps': ['Em uma panela pequena, adicione o três ovos e colocamos para cozinhar. Quando começar a ferver contamos Minutos 12 e nós os tiramos da água. Nós os deixamos esfriar.',\n",
       "    'Nós escolhemos uma forma tipo bolo de ameixa, aproximadamente 22 cm de comprimento. Cobrimos com salmão defumado, cobriremos todos os lados para que não fique espaço vazio.',\n",
       "    'Em uma tábua, pique finamente o 300g de surimi. Também cortamos finamente os três ovos cozidos.',\n",
       "    'Colocamos em uma tigela e misturamos com a maionese e o duas colheres de sopa de ketchup.',\n",
       "    'Colocamos duas fatias de pão no fundo da forma. Adicionamos metade da mistura para preparar o primeira camada.',\n",
       "    'Colocamos duas fatias de pão por cima e o resto da mistura de surimi. Voltamos para colocar duas fatias de pão.',\n",
       "    'Cobrimos com salmão defumado, para que fique coberto por todos os lados e cantos. Se necessário, compacte bem todo o bolo com as mãos. Colocamos na geladeira por cerca de uma hora para terminar de endurecer.',\n",
       "    'Desenformamos e podemos servir. Usaremos uma faca bem afiada para fazer as porções.'],\n",
       "   'videos': ['https://youtube.com/watch?v=A8RM4Y0rCFk',\n",
       "    'https://youtube.com/watch?v=glCLCyFa1j8',\n",
       "    'https://youtube.com/watch?v=8fTYo4stBn0',\n",
       "    'https://youtube.com/watch?v=5J9fKwpRreM'],\n",
       "   'title': 'Torta de ovo com salmão',\n",
       "   'url': 'https://pt.recetin.com/torta-de-salmão-com-surimi-e-ovo.html'}]}"
      ]
     },
     "execution_count": 13,
     "metadata": {},
     "output_type": "execute_result"
    }
   ],
   "source": [
    "ollama_result"
   ]
  },
  {
   "cell_type": "code",
   "execution_count": 14,
   "metadata": {},
   "outputs": [
    {
     "data": {
      "text/plain": [
       "{'ingredients': ['salmão', 'banana', 'ovo'],\n",
       " 'recieves_names': ['salmão', 'banana', 'ovo'],\n",
       " 'recieves_results': [{'images': [],\n",
       "   'ingredients': ['Salmão',\n",
       "    'Limão siciliano',\n",
       "    'Pimenta rosa',\n",
       "    'Maracujá',\n",
       "    'Mostarda',\n",
       "    'Manga',\n",
       "    'Pesto',\n",
       "    'Tangerina',\n",
       "    'Molho oriental',\n",
       "    'Iogurte natural'],\n",
       "   'steps': ['Tempere o salmão com sal e pimenta.',\n",
       "    'Doure o salmão na frigideira.',\n",
       "    'Prepare o molho de limão siciliano.',\n",
       "    'Sirva o salmão com o molho.',\n",
       "    'Asse o salmão com pimenta rosa.',\n",
       "    'Prepare o purê.',\n",
       "    'Prepare o molho de pimenta rosa.',\n",
       "    'Sirva com purê e molho.',\n",
       "    'Grelhe o salmão com molho de maracujá.',\n",
       "    'Prepare o molho de maracujá.',\n",
       "    'Sirva com rúcula, tomate e grão-de-bico.',\n",
       "    'Grelhe o salmão com molho de mostarda.',\n",
       "    'Prepare o molho de mostarda.',\n",
       "    'Sirva com arroz e brócolis.',\n",
       "    'Asse o salmão com molho de manga.',\n",
       "    'Prepare o molho de manga.',\n",
       "    'Sirva com arroz.',\n",
       "    'Asse o salmão ao molho pesto.',\n",
       "    'Prepare o molho pesto.',\n",
       "    'Sirva decorado.',\n",
       "    'Grelhe o salmão com molho de tangerina.',\n",
       "    'Prepare o molho de tangerina.',\n",
       "    'Sirva com arroz branco.',\n",
       "    'Prepare o salmão com molho oriental.',\n",
       "    'Marine o salmão.',\n",
       "    'Asse o salmão.',\n",
       "    'Prepare o molho oriental.',\n",
       "    'Sirva o salmão com molho sírio.',\n",
       "    'Tempere o salmão.',\n",
       "    'Doure o salmão.',\n",
       "    'Prepare o molho sírio.',\n",
       "    'Sirva com pão sírio e salada de pepino.'],\n",
       "   'videos': ['https://youtube.com/watch?v=zaZeV5X93Ts',\n",
       "    'https://youtube.com/watch?v=9dNmg6Ig94Q',\n",
       "    'https://youtube.com/watch?v=-1WxJTydp6o',\n",
       "    'https://youtube.com/watch?v=KRXIBS0hAxs'],\n",
       "   'title': 'Salmão',\n",
       "   'url': 'https://guiadacozinha.com.br/dicas-de-cozinha/receitas-de-salmao/'},\n",
       "  {'images': [],\n",
       "   'ingredients': ['1 banana', 'Ovos', 'Goma de tapioca'],\n",
       "   'steps': ['Misture todos os ingredientes', 'Leve à frigideira', 'Sirva-se'],\n",
       "   'videos': ['https://youtube.com/watch?v=fU1KKvbCrRI',\n",
       "    'https://youtube.com/watch?v=sy9l7y7npGs',\n",
       "    'https://youtube.com/watch?v=m23oASF8ciI',\n",
       "    'https://youtube.com/watch?v=QFtVt0xrOA0'],\n",
       "   'title': 'Banana',\n",
       "   'url': 'https://guiadacozinha.com.br/receitas/crepioca-de-banana-pratica/'},\n",
       "  {'images': [],\n",
       "   'ingredients': ['Crepioca Recheada:\\nIngredientes:\\n\\nModo de preparo:\\nBata todos os ingredientes numa tigela até misturar bem. Quando a mistura estiver homogênea, coloque numa frigideira pré-aquecida e untada com azeite ou manteiga. Tampe a frigideira e aguarde as bordas ficarem douradas para virar. Espere ficar no ponto e recheie como quiser, algumas opções são: cream cheese, geleia, frango, ricota...\\n\\nFonte da receita: Site Guia da Semana',\n",
       "    'Macarrão Carbonara:\\nIngredientes\\n\\nModo de preparo\\nPrimeiro frite o bacon até ele ficar crocante. Em um outro recipiente quebre os ovos e misture com um garfo, depois tempere com sal, pimenta e junte com o queijo ralado, tudo a gosto. Quando o macarrão estiver cozido, adicione ele e misture bem. Finalize colocando o bacon\\n\\nFonte da receita Tudo Gostoso',\n",
       "    'Abacate com Ovo:\\nIngredientes:\\n\\nPreparação:\\n\\nForno pré-aquecido a 200º C. Corte o abacate pela metade e tire o caroço. Extraia 2 colheres de sopa da polpa do abacate para deixar espaço para o ovo. Com cuidado, coloque o ovo no espaço central do abacate. Coloque sal e pimenta a gosto e tempere com ervas aromáticas. Asse por 15 minutos até que o ovo alcance o ponto de cozimento desejado.\\n\\nFonte da receita: Site Incrível',\n",
       "    'Muffin de Legumes:\\nIngredientes:\\n\\nPreparação:\\n\\nEsquente o forno a 190 graus. Unte com azeite as fôrmas de silicone para madalenas. Corte os legumes em pedaços pequenos e doure numa frigideira. Corte em quadrados o presunto ou os pedaços da carne desejada.  No fundo da fôrma, coloque uma camada de carne, seguida de verdura, queijo ralado e cebolinha. A fôrma deverá estar cheia, aproximadamente até 2/3. Com um garfo, bata os ovos, adicione especiarias, sal e pimenta. Em cada fôrma, despeje cuidadosamente a mistura do ovo. Asse durante aproximadamente 15 minutos Os muffins devem crescer e dourar neste tempo.\\n\\nFonte da receita: Site Incrível',\n",
       "    'Farofa com Ovos:\\nIngredientes\\n\\nModo de preparo\\nBata os ovos inteiros, tempere com o queijo, o cheiro-verde picado e sal e pimenta do reino a gosto. Doure a cebola na manteiga, junte os ovos, refogue bem e, assim que começar a endurecer, mexa com um garfo, a fim de ficar em pedacinhos. Depois, vá mexendo e juntando a farinha, até formar uma farofa úmida e solta. Prove sal e pimenta.\\n\\nFonte da receita: Site Receitas Sem Fronteiras',\n",
       "    'Ovos Recheados:\\nIngredientes\\n\\nModo de preparo\\nCortar os ovos um pouco acima do meio, dando para tirar as gemas. Em um prato, coloque as 6 gemas cozidas e esmague com o garfo, misture com a maionese, até obter uma massa homogênea. Recheie as cavidades das claras cozidas com essa mistura. Depois é só servir! Obs.: você pode incluir mais ingredientes de sua preferência, como atum e temperos.\\n\\nFonte da receita: Site Guia da Semana',\n",
       "    'Torta de Frango de Liquidificador:\\nIngredientes\\n\\nRecheio\\n\\nMassa\\n\\nMontagem\\n\\nModo de preparo\\n\\nRecheio\\n\\nEm um recipiente, misture os ingredientes, com exceção do queijo parmesão.\\n\\nMassa\\n\\nEm um liquidificador, bata os ingredientes até obter uma mistura homogênea. Reserve.\\n\\nMontagem\\n\\nEm uma forma retangular grande (23 x 32 cm), untada com óleo e polvilhada com farinha de trigo espalhe metade da Massa, cubra com o Recheio e finalize com a Massa restante. Polvilhe o queijo parmesão e leve ao forno médio (180°C), preaquecido, por cerca de 40 minutos ou até dourar. Sirva.\\n\\nFonte da receita: Site Nestlé',\n",
       "    'Cestinha de Carne com Ovo:\\nIngredientes\\n\\nModo de preparo\\nTemperar a carne moída com sal, pimenta, alho em pó, cebola em pó e páprica, reservar. Bater os ovos com sal e pimenta e acrescentar os tomates picados, a mussarela e a salsinha, reservar. Dispor a carne em forminhas de muffin untadas com óleo. Dispor a mistura dos ovos dentro das cestinhas de carne. Levar ao forno pré aquecido a 200˚C por 30 minutos. Retirar das forminhas e servir.\\n\\nFonte da receita: Site Tastemade',\n",
       "    'Pudim:\\nIngredientes\\n\\nModo de preparo\\nLeve ao fogo 1 xícara de açúcar na forma do pudim para fazer o caramelo. Bater em um liquidificador o leite condensado, o leite, os ovos e a gema. Passar a mistura do leite condensado por uma peneira e colocar na forma do pudim. Levar ao forno a 180 graus em banho-maria. Deixar por 1h30 a 2h no forno. Tirar do forno e deixar na geladeira por no mínimo 3 horas. Aqueça a forma do pudim para se soltar.\\n\\nFonte da receita: Site Tastemade',\n",
       "    'Pimentão com Ovo:\\nIngredientes\\n\\nModo de preparo\\nPré-aqueça o forno a 200ºC. Corte os pimentões pela metade e remova todas as sementes. Enquanto isso, pegue uma assadeira e cubra-a com papel manteiga. Você pode achar este papel nos supermercados ou em lojas especializadas em materiais de cozinha. Agora coloque os pimentões e coloque na assadeira com o papel manteiga, um do lado do outro. Depois quebre um ovo dentro de cada pimentão e polvilhe com sal e pimenta-do-reino. Leve a assadeira ao forno durante uns 20 minutos, até que todos os ovos estejam bem assados.\\n\\nFonte da receita: Site Guia da Semana',\n",
       "    'Cestinha de Peite de Peru com Ovo:\\nIngredientes\\n\\nModo de preparo\\nPreaqueça o forno a 180ºc por 10 minutos. Em um bowl, bata o ovo e a clara ligeiramente.\\nJunte o requeijão e bata mais um pouco. Tempere com sal e pimenta e reserve. Em forminhas individuais, coloque o peito de peru. Siga a proporção de uma fatia para cada forma. Dentro da cestinha ponha cenoura ralada e tomates cortados. Despeje em seguida o creme de ovos. Salpique com cebolete e leve ao forno. Retire quando estiver dourado.\\n\\nFonte da receita: Site Lucilia Diniz'],\n",
       "   'steps': ['Crepioca Recheada:\\n1. Bata todos os ingredientes numa tigela até misturar bem.\\n2. Quando a mistura estiver homogênea, coloque numa frigideira pré-aquecida e untada com azeite ou manteiga.\\n3. Tampe a frigideira e aguarde as bordas ficarem douradas para virar.\\n4. Vire e espere ficar no ponto.\\n5. Recheie como quiser (cream cheese, geleia, frango, ricota...)',\n",
       "    'Macarrão Carbonara:\\n1. Frite o bacon até ele ficar crocante.\\n2. Em um recipiente quebre os ovos e misture com um garfo.\\n3. Tempere com sal, pimenta e junte com o queijo ralado a gosto.\\n4. Quando o macarrão estiver cozido, adicione ele e misture bem.\\n5. Finalize colocando o bacon',\n",
       "    'Abacate com Ovo:\\n1. Pré-aqueça o forno a 200º C.\\n2. Corte o abacate pela metade e tire o caroço.\\n3. Extraia 2 colheres de sopa da polpa do abacate para deixar espaço para o ovo.\\n4. Com cuidado, coloque o ovo no espaço central do abacate.\\n5. Coloque sal e pimenta a gosto e tempere com ervas aromáticas.\\n6. Asse por 15 minutos até que o ovo alcance o ponto de cozimento desejado.',\n",
       "    'Muffin de Legumes:\\n1. Esquente o forno a 190 graus.\\n2. Unte com azeite as fôrmas de silicone para madalenas.\\n3. Corte os legumes em pedaços pequenos e doure numa frigideira.\\n4. Corte em quadrados o presunto ou os pedaços da carne desejada.\\n5. No fundo da fôrma, coloque uma camada de carne, seguida de verdura, queijo ralado e cebolinha.\\n6. A fôrma deverá estar cheia, aproximadamente até 2/3.\\n7. Com um garfo, bata os ovos, adicione especiarias, sal e pimenta.\\n8. Em cada fôrma, despeje cuidadosamente a mistura do ovo.\\n9. Asse durante aproximadamente 15 minutos. Os muffins devem crescer e dourar neste tempo.',\n",
       "    'Farofa com Ovos:\\n1. Bata os ovos inteiros, tempere com o queijo, o cheiro-verde picado e sal e pimenta do reino a gosto.\\n2. Doure a cebola na manteiga, junte os ovos, refogue bem e, assim que começar a endurecer, mexa com um garfo, a fim de ficar em pedacinhos.\\n3. Depois, vá mexendo e juntando a farinha, até formar uma farofa úmida e solta.\\n4. Prove sal e pimenta.',\n",
       "    'Ovos Recheados:\\n1. Cortar os ovos um pouco acima do meio, dando para tirar as gemas.\\n2. Em um prato, coloque as 6 gemas cozidas e esmague com o garfo, misture com a maionese, até obter uma massa homogênea.\\n3. Recheie as cavidades das claras cozidas com essa mistura.\\n4. Sirva. Obs.: você pode incluir mais ingredientes de sua preferência, como atum e temperos.',\n",
       "    'Torta de Frango de Liquidificador:\\nRecheio:\\n1. Em um recipiente, misture os ingredientes, com exceção do queijo parmesão.\\nMassa:\\n1. Em um liquidificador, bata os ingredientes até obter uma mistura homogênea. Reserve.\\nMontagem:\\n1. Em uma forma retangular grande (23 x 32 cm), untada com óleo e polvilhada com farinha de trigo espalhe metade da Massa, cubra com o Recheio e finalize com a Massa restante.\\n2. Polvilhe o queijo parmesão e leve ao forno médio (180°C), preaquecido, por cerca de 40 minutos ou até dourar. Sirva.',\n",
       "    'Cestinha de Carne com Ovo:\\n1. Temperar a carne moída com sal, pimenta, alho em pó, cebola em pó e páprica, reservar.\\n2. Bater os ovos com sal e pimenta e acrescentar os tomates picados, a mussarela e a salsinha, reservar.\\n3. Dispor a carne em forminhas de muffin untadas com óleo.\\n4. Dispor a mistura dos ovos dentro das cestinhas de carne.\\n5. Levar ao forno pré aquecido a 200˚C por 30 minutos.\\n6. Retirar das forminhas e servir.',\n",
       "    'Pudim:\\n1. Leve ao fogo 1 xícara de açúcar na forma do pudim para fazer o caramelo.\\n2. Bater em um liquidificador o leite condensado, o leite, os ovos e a gema.\\n3. Passar a mistura do leite condensado por uma peneira e colocar na forma do pudim.\\n4. Levar ao forno a 180 graus em banho-maria.\\n5. Deixar por 1h30 a 2h no forno.\\n6. Tirar do forno e deixar na geladeira por no mínimo 3 horas.\\n7. Aqueça a forma do pudim para se soltar.',\n",
       "    'Pimentão com Ovo:\\n1. Pré-aqueça o forno a 200ºC.\\n2. Corte os pimentões pela metade e remova todas as sementes.\\n3. Enquanto isso, pegue uma assadeira e cubra-a com papel manteiga.\\n4. Coloque os pimentões na assadeira com o papel manteiga, um do lado do outro.\\n5. Quebre um ovo dentro de cada pimentão e polvilhe com sal e pimenta-do-reino.\\n6. Leve a assadeira ao forno durante uns 20 minutos, até que todos os ovos estejam bem assados.',\n",
       "    'Cestinha de Peite de Peru com Ovo:\\n1. Preaqueça o forno a 180ºc por 10 minutos.\\n2. Em um bowl, bata o ovo e a clara ligeiramente.\\n3. Junte o requeijão e bata mais um pouco.\\n4. Tempere com sal e pimenta e reserve.\\n5. Em forminhas individuais, coloque o peito de peru.\\n6. Siga a proporção de uma fatia para cada forma.\\n7. Dentro da cestinha ponha cenoura ralada e tomates cortados.\\n8. Despeje em seguida o creme de ovos.\\n9. Salpique com cebolete e leve ao forno.\\n10. Retire quando estiver dourado.'],\n",
       "   'videos': ['https://youtube.com/watch?v=Tl9uyOqRdJ8',\n",
       "    'https://youtube.com/watch?v=tdv94HhAKJ4',\n",
       "    'https://youtube.com/watch?v=wzl8-wZ_wKw',\n",
       "    'https://youtube.com/watch?v=EoLTLh3FIcg'],\n",
       "   'title': 'Ovo',\n",
       "   'url': 'https://www.guiadasemana.com.br/receitas/galeria/receitas-faceis-e-gostosas-para-fazer-com-ovo'}]}"
      ]
     },
     "execution_count": 14,
     "metadata": {},
     "output_type": "execute_result"
    }
   ],
   "source": [
    "gemini_result"
   ]
  }
 ],
 "metadata": {
  "kernelspec": {
   "display_name": ".rv",
   "language": "python",
   "name": "python3"
  },
  "language_info": {
   "codemirror_mode": {
    "name": "ipython",
    "version": 3
   },
   "file_extension": ".py",
   "mimetype": "text/x-python",
   "name": "python",
   "nbconvert_exporter": "python",
   "pygments_lexer": "ipython3",
   "version": "3.12.9"
  }
 },
 "nbformat": 4,
 "nbformat_minor": 2
}
